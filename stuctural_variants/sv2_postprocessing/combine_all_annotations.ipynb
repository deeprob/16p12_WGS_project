{
 "cells": [
  {
   "cell_type": "code",
   "execution_count": 1,
   "metadata": {},
   "outputs": [],
   "source": [
    "import pandas as pd"
   ]
  },
  {
   "cell_type": "code",
   "execution_count": 2,
   "metadata": {},
   "outputs": [],
   "source": [
    "df = pd.read_csv('output/merged.sv2.breakpoints_resolved.nearby_merged.tsv', sep='\\t')"
   ]
  },
  {
   "cell_type": "code",
   "execution_count": 3,
   "metadata": {},
   "outputs": [
    {
     "name": "stdout",
     "output_type": "stream",
     "text": [
      "0\n",
      "0\n",
      "0\n",
      "0\n"
     ]
    }
   ],
   "source": [
    "# append annotations\n",
    "app = pd.read_csv('output/merged.sv2.intracohort.tsv', sep='\\t')\n",
    "# check ids match\n",
    "print((~(app['genes'] == df['genes'])).sum())\n",
    "df['intracohort_count'] = app['intracohort_count']\n",
    "\n",
    "app = pd.read_csv('output/merged.sv2.gnomad_overall.tsv', sep='\\t')\n",
    "# check ids match\n",
    "print((~(app['genes'] == df['genes'])).sum())\n",
    "df['gnomad_freq_overall'] = app['gnomad_freq_overall']\n",
    "\n",
    "app = pd.read_csv('output/merged.sv2.gnomad_control.tsv', sep='\\t')\n",
    "# check ids match\n",
    "print((~(app['genes'] == df['genes'])).sum())\n",
    "df['gnomad_freq_control'] = app['gnomad_freq_control']\n",
    "\n",
    "app = pd.read_csv('output/merged.sv2.gnomad_non_neuro.tsv', sep='\\t')\n",
    "# check ids match\n",
    "print((~(app['genes'] == df['genes'])).sum())\n",
    "df['gnomad_freq_non_neuro'] = app['gnomad_freq_non_neuro']"
   ]
  },
  {
   "cell_type": "code",
   "execution_count": 15,
   "metadata": {},
   "outputs": [
    {
     "name": "stdout",
     "output_type": "stream",
     "text": [
      "0\n"
     ]
    }
   ],
   "source": [
    "app = pd.read_csv('output/merged.sv2.genes.tsv', sep='\\t')\n",
    "# check ids match\n",
    "print((~(app['genes_sv2'] == df['genes'])).sum())\n",
    "df['genes_sv2'] = df['genes']\n",
    "df['num_genes'] = app['num_genes']\n",
    "df['genes'] = app['genes']"
   ]
  },
  {
   "cell_type": "code",
   "execution_count": 18,
   "metadata": {},
   "outputs": [],
   "source": [
    "# rearrange columns\n",
    "cols = ['sample', 'svtype', 'chrom', 'start', 'end', 'svlength', 'num_genes', 'genes',\n",
    "       'intracohort_count', 'gnomad_freq_overall', 'gnomad_freq_control',\n",
    "       'gnomad_freq_non_neuro', 'genes_sv2']\n",
    "\n",
    "df = df[cols]"
   ]
  },
  {
   "cell_type": "code",
   "execution_count": 21,
   "metadata": {},
   "outputs": [],
   "source": [
    "df.to_csv('output/merged_sv2_annotated.tsv', sep='\\t', index=False)"
   ]
  },
  {
   "cell_type": "code",
   "execution_count": 20,
   "metadata": {},
   "outputs": [],
   "source": [
    "df.to_excel('output/merged_sv2_annotated.xlsx', index=False)"
   ]
  },
  {
   "cell_type": "code",
   "execution_count": null,
   "metadata": {},
   "outputs": [],
   "source": []
  }
 ],
 "metadata": {
  "kernelspec": {
   "display_name": "Python 3",
   "language": "python",
   "name": "python3"
  },
  "language_info": {
   "codemirror_mode": {
    "name": "ipython",
    "version": 3
   },
   "file_extension": ".py",
   "mimetype": "text/x-python",
   "name": "python",
   "nbconvert_exporter": "python",
   "pygments_lexer": "ipython3",
   "version": "3.7.3"
  }
 },
 "nbformat": 4,
 "nbformat_minor": 4
}
