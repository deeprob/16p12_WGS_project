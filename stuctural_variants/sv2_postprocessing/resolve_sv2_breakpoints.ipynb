{
 "cells": [
  {
   "cell_type": "code",
   "execution_count": 1,
   "metadata": {},
   "outputs": [],
   "source": [
    "# Resolves breakpoints from SV2 output.\n",
    "\n",
    "# Takes in table of SV2 calls \n",
    "# and merges samples calls that overlap (Note: no 50% reciprocal overlap requirement).\n",
    "# The outer breakpoints become the new breakpoints"
   ]
  },
  {
   "cell_type": "code",
   "execution_count": 2,
   "metadata": {},
   "outputs": [],
   "source": [
    "import pandas as pd"
   ]
  },
  {
   "cell_type": "code",
   "execution_count": 3,
   "metadata": {},
   "outputs": [],
   "source": [
    "# load in sv2 calls\n",
    "sv2 = pd.read_csv('output/merged.sv2.tsv', sep='\\t')"
   ]
  },
  {
   "cell_type": "code",
   "execution_count": 4,
   "metadata": {},
   "outputs": [],
   "source": [
    "# only keep a few columns\n",
    "cols = ['chrom', 'pos', 'record', 'sample', 'end', 'svlength', 'svtype', 'denovo_filter', 'genes']\n",
    "sv2 = sv2[cols].copy()\n",
    "\n",
    "# sort by chrom and position\n",
    "sv2 = sv2.sort_values(['chrom', 'pos'])"
   ]
  },
  {
   "cell_type": "code",
   "execution_count": 5,
   "metadata": {},
   "outputs": [],
   "source": [
    "# get chromsomes, svtypes and samples\n",
    "chromosomes = list(sv2['chrom'].unique())\n",
    "svtypes = ['DUP', 'DEL']\n",
    "samples = list(sv2['sample'].unique())"
   ]
  },
  {
   "cell_type": "code",
   "execution_count": 6,
   "metadata": {},
   "outputs": [],
   "source": [
    "def should_merge(start1, end1, start2, end2):\n",
    "    # Function decides if two structural variants should be merged\n",
    "    \n",
    "    overlap = min(end1, end2) - max(start1, start2)\n",
    "    if overlap >=0 :\n",
    "        return True\n",
    "    return False\n",
    "\n",
    "def merge_genes(genes1, genes2):\n",
    "    # combines gene annotations from two SV calls\n",
    "    \n",
    "    genes1 = genes1.split('|')\n",
    "    genes2 = genes2.split('|')\n",
    "    \n",
    "    genes_combined = list(set(genes1 + genes2))\n",
    "    genes_combined = '|'.join(genes_combined)\n",
    "    \n",
    "    return genes_combined\n",
    "\n",
    "def merge_nearby(df, sample, chrom, svtype):\n",
    "    # takes a dataframe sorted by starting position\n",
    "    # iterates through dataframe and merges calls that overlap\n",
    "    \n",
    "    # Here, we set the previous start position, end position,\n",
    "    # length, and genes.\n",
    "    # p stands for previous\n",
    "    startp = df.at[df.index[0], 'pos']\n",
    "    endp = df.at[df.index[0], 'end']\n",
    "    lengthp = df.at[df.index[0], 'svlength']\n",
    "    genesp = df.at[df.index[0], 'genes']\n",
    "    \n",
    "    # will place merged calls here\n",
    "    output = []\n",
    "    \n",
    "    # loop starting with second row in dataframe\n",
    "    for i in df.index[1:]:\n",
    "        \n",
    "        # get current values\n",
    "        start = df.at[i, 'pos']\n",
    "        end = df.at[i, 'end']\n",
    "        length = df.at[i, 'svlength']\n",
    "        genes = df.at[i, 'genes']\n",
    "\n",
    "        # compare current values to previous values\n",
    "        merge = should_merge(startp, endp, start, end)\n",
    "        \n",
    "        # if should_merge then set previous values to new values\n",
    "        if merge:\n",
    "            if genes != genesp:\n",
    "                genesp = merge_genes(genes, genesp)\n",
    "                \n",
    "            startp = min(start, startp)\n",
    "            endp = max(end, endp)  \n",
    "            lengthp = endp - startp\n",
    "            \n",
    "        # if no merging required then append previous values to output list\n",
    "        # and then set previous values to current values\n",
    "        else:\n",
    "            output.append([sample, svtype, chrom, startp, endp, lengthp, genesp])\n",
    "            startp, endp, lengthp, genesp = start, end, length, genes\n",
    "\n",
    "    # append final set of values\n",
    "    output.append([sample, svtype, chrom, startp, endp, lengthp, genesp])\n",
    "    \n",
    "    return output"
   ]
  },
  {
   "cell_type": "code",
   "execution_count": 7,
   "metadata": {},
   "outputs": [],
   "source": [
    "# loop over every chrom, svtype, and sample\n",
    "# and merge overlapping structural variants\n",
    "\n",
    "# store the new records here\n",
    "new_sv2 = []\n",
    "\n",
    "# loop over samples\n",
    "for samp in samples:\n",
    "    \n",
    "    # loop over chrom\n",
    "    for chrom in chromosomes:\n",
    "\n",
    "        # loop over svtype\n",
    "        for svtype in svtypes:\n",
    "\n",
    "            # get variants for sample, chrom, and svtype\n",
    "            sub_sv2 = sv2[(sv2.svtype == svtype) & \n",
    "                          (sv2['sample'] == samp) & \n",
    "                          (sv2['chrom'] == chrom)]\n",
    "            \n",
    "            # if no variants, then skip\n",
    "            if sub_sv2.shape[0] == 0:\n",
    "                continue\n",
    "                \n",
    "            # get merged values\n",
    "            append = merge_nearby(sub_sv2, samp, chrom, svtype)\n",
    "            \n",
    "            # append to new records\n",
    "            new_sv2 = new_sv2 + append\n",
    "\n",
    "\n",
    "# new sv2 values to dataframe     \n",
    "new_sv2 = pd.DataFrame(new_sv2)"
   ]
  },
  {
   "cell_type": "code",
   "execution_count": 9,
   "metadata": {},
   "outputs": [],
   "source": [
    "# name the columns\n",
    "new_sv2.columns = ['sample', 'svtype', 'chrom', 'start', 'end', 'svlength', 'genes']"
   ]
  },
  {
   "cell_type": "code",
   "execution_count": 10,
   "metadata": {},
   "outputs": [],
   "source": [
    "# save df \n",
    "new_sv2.to_csv('output/merged.sv2.breakpoints_resolved.tsv', sep='\\t', index=False)"
   ]
  },
  {
   "cell_type": "code",
   "execution_count": null,
   "metadata": {},
   "outputs": [],
   "source": []
  }
 ],
 "metadata": {
  "kernelspec": {
   "display_name": "Python 3",
   "language": "python",
   "name": "python3"
  },
  "language_info": {
   "codemirror_mode": {
    "name": "ipython",
    "version": 3
   },
   "file_extension": ".py",
   "mimetype": "text/x-python",
   "name": "python",
   "nbconvert_exporter": "python",
   "pygments_lexer": "ipython3",
   "version": "3.7.3"
  }
 },
 "nbformat": 4,
 "nbformat_minor": 4
}
