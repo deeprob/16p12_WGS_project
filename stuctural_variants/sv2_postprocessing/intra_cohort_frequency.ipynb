{
 "cells": [
  {
   "cell_type": "code",
   "execution_count": 1,
   "metadata": {},
   "outputs": [],
   "source": [
    "# Get's intracohort structural variant count based on \n",
    "# 50% reciprocal overlap between structural variant"
   ]
  },
  {
   "cell_type": "code",
   "execution_count": 1,
   "metadata": {},
   "outputs": [],
   "source": [
    "import pandas as pd\n",
    "import numpy as np"
   ]
  },
  {
   "cell_type": "code",
   "execution_count": 2,
   "metadata": {},
   "outputs": [],
   "source": [
    "svs = pd.read_csv('output/merged.sv2.breakpoints_resolved.nearby_merged.tsv', sep='\\t')"
   ]
  },
  {
   "cell_type": "code",
   "execution_count": null,
   "metadata": {},
   "outputs": [],
   "source": [
    "# loop over every chrom and svtype\n",
    "chromosomes = list(svs.chrom.unique())\n",
    "svtypes = ['DUP', 'DEL']\n",
    "\n",
    "for chrom in chromosomes:\n",
    "    for svtype in svtypes:\n",
    "        # get all structural variants in chromosome of the svtype\n",
    "        sub_svs = svs[(svs.chrom == chrom) & (svs.svtype == svtype)].copy()\n",
    "\n",
    "        # create numpy structures for end, start, and svlength\n",
    "        # (numpy is faster than pandas)\n",
    "        chrom_ends = sub_svs['end'].to_numpy()\n",
    "        chrom_starts = sub_svs['start'].to_numpy()\n",
    "        chrom_svlengths = sub_svs['svlength'].to_numpy()\n",
    "\n",
    "        # iterate over all structural variants in chrom\n",
    "        # and compare against other structural variants in chrom\n",
    "        for i, row in sub_svs.iterrows():\n",
    "            start = row['start']\n",
    "            end = row['end']\n",
    "            length = row['svlength']\n",
    "\n",
    "            min_end   = np.minimum(chrom_ends, end)\n",
    "            max_start = np.maximum(chrom_starts, start)\n",
    "            max_length = np.maximum(chrom_svlengths, length)\n",
    "\n",
    "            overlap = (min_end - max_start) > .5 * max_length\n",
    "\n",
    "            intra_cohort_count = overlap.sum()\n",
    "            svs.at[i, 'intracohort_count'] = intra_cohort_count"
   ]
  },
  {
   "cell_type": "code",
   "execution_count": null,
   "metadata": {},
   "outputs": [],
   "source": [
    "svs.to_csv('output/merged.sv2.intracohort.tsv', sep='\\t', index=False)"
   ]
  },
  {
   "cell_type": "code",
   "execution_count": null,
   "metadata": {},
   "outputs": [],
   "source": []
  }
 ],
 "metadata": {
  "kernelspec": {
   "display_name": "Python 3",
   "language": "python",
   "name": "python3"
  },
  "language_info": {
   "codemirror_mode": {
    "name": "ipython",
    "version": 3
   },
   "file_extension": ".py",
   "mimetype": "text/x-python",
   "name": "python",
   "nbconvert_exporter": "python",
   "pygments_lexer": "ipython3",
   "version": "3.7.3"
  }
 },
 "nbformat": 4,
 "nbformat_minor": 4
}
