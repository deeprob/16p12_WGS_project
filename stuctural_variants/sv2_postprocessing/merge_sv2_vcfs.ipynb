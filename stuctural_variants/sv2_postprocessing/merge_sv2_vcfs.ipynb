{
 "cells": [
  {
   "cell_type": "code",
   "execution_count": 1,
   "metadata": {},
   "outputs": [],
   "source": [
    "# Merges VCFs output by SV2. Removes calls that aren't DUPs or DELs, and that aren't FILTER==PASS. "
   ]
  },
  {
   "cell_type": "code",
   "execution_count": 2,
   "metadata": {},
   "outputs": [],
   "source": [
    "import pandas as pd\n",
    "\n",
    "pd.set_option('display.max_colwidth', 1000)"
   ]
  },
  {
   "cell_type": "code",
   "execution_count": 3,
   "metadata": {},
   "outputs": [],
   "source": [
    "fam = pd.read_csv('/data3/16p12_WGS/parsing_cnv_callers/sv2/all_batches.ped',\n",
    "                 sep='\\t', header=None)\n",
    "\n",
    "\n",
    "fam = fam[fam[1] != 'SG047_batch3'].copy()\n",
    "\n",
    "samples = fam[1].to_list()"
   ]
  },
  {
   "cell_type": "code",
   "execution_count": 4,
   "metadata": {},
   "outputs": [],
   "source": [
    "# load in all vcfs\n",
    "vcf = pd.DataFrame()\n",
    "\n",
    "for samp in samples:\n",
    "    vcffile = '/data5/16p12_WGS/structural_variants/sv2/sv2_genotypes/{}.vcf'.format(samp)\n",
    "\n",
    "    # load in sample VCF file\n",
    "    samp_vcf = pd.read_csv(vcffile, sep='\\t', comment='#', header=None)\n",
    "    \n",
    "    # add column for sample\n",
    "    samp_vcf['sample'] = samp\n",
    "    \n",
    "    # append to master vcf df\n",
    "    vcf = vcf.append(samp_vcf)"
   ]
  },
  {
   "cell_type": "code",
   "execution_count": 5,
   "metadata": {},
   "outputs": [],
   "source": [
    "# rename columns\n",
    "vcf.columns = ['chrom', 'pos', 'id', 'ref', 'alt', 'qual', 'filter', 'info', 'format', 'record', 'sample']"
   ]
  },
  {
   "cell_type": "code",
   "execution_count": 6,
   "metadata": {},
   "outputs": [],
   "source": [
    "# get END, SVLEN, SVTYPE, DENOVO_FILTER, GENES from info column\n",
    "def get_info(s, info_item):\n",
    "    s = s.split(';')\n",
    "    for item in s:\n",
    "        if item.startswith(info_item):\n",
    "            item = item[len(info_item) + 1:]\n",
    "            return item\n",
    "\n",
    "info_items = ['END', 'SVLEN', 'SVTYPE', 'DENOVO_FILTER', 'GENES']\n",
    "for info_item in info_items:\n",
    "    vcf[info_item] = vcf['info'].apply(lambda s: get_info(s, info_item))"
   ]
  },
  {
   "cell_type": "code",
   "execution_count": 7,
   "metadata": {},
   "outputs": [],
   "source": [
    "# rename columns again\n",
    "vcf.columns = ['chrom', 'pos', 'id', 'ref', 'alt', 'qual', 'filter', 'info', 'format', 'record', 'sample',\n",
    "              'end', 'svlength', 'svtype', 'denovo_filter', 'genes']"
   ]
  },
  {
   "cell_type": "code",
   "execution_count": 8,
   "metadata": {},
   "outputs": [],
   "source": [
    "# keep only sv2 calls that are dups or dels\n",
    "vcf = vcf[vcf.svtype.isin(['DUP', 'DEL'])]"
   ]
  },
  {
   "cell_type": "code",
   "execution_count": 9,
   "metadata": {},
   "outputs": [],
   "source": [
    "# keep only sv2 calls that are PASS\n",
    "vcf = vcf[vcf['filter'] == 'PASS']"
   ]
  },
  {
   "cell_type": "code",
   "execution_count": 10,
   "metadata": {},
   "outputs": [],
   "source": [
    "# sort by chrom and position\n",
    "vcf = vcf.sort_values(['chrom', 'pos'])"
   ]
  },
  {
   "cell_type": "code",
   "execution_count": 12,
   "metadata": {},
   "outputs": [],
   "source": [
    "# save\n",
    "vcf.to_csv('output/merged.sv2.tsv', sep='\\t', index=False)"
   ]
  },
  {
   "cell_type": "code",
   "execution_count": 13,
   "metadata": {},
   "outputs": [
    {
     "data": {
      "text/plain": [
       "(490298, 16)"
      ]
     },
     "execution_count": 13,
     "metadata": {},
     "output_type": "execute_result"
    }
   ],
   "source": [
    "vcf.shape"
   ]
  },
  {
   "cell_type": "code",
   "execution_count": null,
   "metadata": {},
   "outputs": [],
   "source": []
  }
 ],
 "metadata": {
  "kernelspec": {
   "display_name": "Python 3",
   "language": "python",
   "name": "python3"
  },
  "language_info": {
   "codemirror_mode": {
    "name": "ipython",
    "version": 3
   },
   "file_extension": ".py",
   "mimetype": "text/x-python",
   "name": "python",
   "nbconvert_exporter": "python",
   "pygments_lexer": "ipython3",
   "version": "3.7.3"
  }
 },
 "nbformat": 4,
 "nbformat_minor": 4
}
