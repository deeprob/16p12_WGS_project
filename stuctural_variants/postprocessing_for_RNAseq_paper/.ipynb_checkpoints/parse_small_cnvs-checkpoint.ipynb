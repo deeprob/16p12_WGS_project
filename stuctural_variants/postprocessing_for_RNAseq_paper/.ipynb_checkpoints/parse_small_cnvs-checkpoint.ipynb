{
 "cells": [
  {
   "cell_type": "code",
   "execution_count": 1,
   "metadata": {},
   "outputs": [],
   "source": [
    "import pandas as pd\n",
    "import numpy as np"
   ]
  },
  {
   "cell_type": "code",
   "execution_count": 2,
   "metadata": {},
   "outputs": [],
   "source": [
    "pheno = pd.read_csv('../16p12.2_rnaseq_analysis/data/pheno_final.tsv', sep='\\t')\n",
    "\n",
    "samples = list(pheno.subject.unique())"
   ]
  },
  {
   "cell_type": "code",
   "execution_count": 3,
   "metadata": {},
   "outputs": [],
   "source": [
    "with open('survivor/all_codes.list', 'r') as f:\n",
    "    allsamples = f.readlines()\n",
    "allsamples = [s.strip() for s in allsamples]"
   ]
  },
  {
   "cell_type": "markdown",
   "metadata": {},
   "source": [
    "# Gene Annotation\n"
   ]
  },
  {
   "cell_type": "code",
   "execution_count": 4,
   "metadata": {},
   "outputs": [],
   "source": [
    "gdf = pd.read_csv('refGene_hg19.txt', sep='\\t', header=None)\n",
    "\n",
    "gdf['chrom'] = gdf[2]\n",
    "gdf['start'] = gdf[4]\n",
    "gdf['end']   = gdf[5]\n",
    "gdf['gene']  = gdf[12]\n",
    "gdf = gdf[['chrom', 'start', 'end', 'gene']]"
   ]
  },
  {
   "cell_type": "code",
   "execution_count": 5,
   "metadata": {},
   "outputs": [],
   "source": [
    "for subject in allsamples:\n",
    "#     print(subject)\n",
    "    df = pd.read_csv('output/merged/{}.merged.tsv'.format(subject), sep='\\t')\n",
    "    df = df[df.length < 50e3]\n",
    "    df['genes'] = ''\n",
    "\n",
    "    for chrom in df.chrom.unique():\n",
    "    #     print(chrom)\n",
    "        dfc = df[df.chrom == chrom]\n",
    "        gdfc = gdf[gdf.chrom == chrom]\n",
    "        for i in dfc.index[:]:\n",
    "            start = dfc.at[i, 'start']\n",
    "            end = dfc.at[i, 'end']\n",
    "            min_end   = gdfc.end.apply(lambda x: min(x, end))\n",
    "            max_start = gdfc.start.apply(lambda x: max(x, start))\n",
    "            odf = gdfc[(min_end - max_start) > 0]\n",
    "            if odf.shape[0] > 0:\n",
    "                df.at[i, 'genes'] = ';'.join(odf.gene.tolist())\n",
    "\n",
    "    df.to_csv('output/merged/{}.merged.genes.tsv'.format(subject), sep='\\t', index=False)"
   ]
  },
  {
   "cell_type": "markdown",
   "metadata": {},
   "source": [
    "# inter cohort frequency\n",
    "\n"
   ]
  },
  {
   "cell_type": "code",
   "execution_count": 6,
   "metadata": {},
   "outputs": [],
   "source": [
    "cdf = pd.read_csv('gnomad_v2.1_controls_dup_del.bed', sep='\\t', header=None)\n",
    "cdf['chrom'] = cdf[0].apply(lambda s: 'chr{}'.format(s))\n",
    "cdf['start'] = cdf[1]\n",
    "cdf['end'] = cdf[2]\n",
    "cdf['svtype'] = cdf[4]\n",
    "cdf['freq'] = cdf[5] \n",
    "cdf = cdf[['chrom', 'start', 'end', 'svtype', 'freq']]\n",
    "cdf['length'] = cdf.end - cdf.start"
   ]
  },
  {
   "cell_type": "code",
   "execution_count": 7,
   "metadata": {},
   "outputs": [],
   "source": [
    "for subject in samples:\n",
    "\n",
    "#     print(subject)\n",
    "\n",
    "    df = pd.read_csv('output/merged/{}.merged.genes.tsv'.format(subject), sep='\\t')\n",
    "\n",
    "    df['gnomad_freq'] = 0.\n",
    "\n",
    "    for chrom in df.chrom.unique()[:]:\n",
    "        for svtype in ['DUP', 'DEL']:\n",
    "            dfc = df[(df.chrom == chrom) & (df.svtype == svtype)]\n",
    "            cdfc = cdf[(cdf.chrom == chrom) & (cdf.svtype == svtype)]\n",
    "\n",
    "            for i in dfc.index[:]:\n",
    "                start = dfc.at[i, 'start']\n",
    "                end = dfc.at[i, 'end']\n",
    "                length = dfc.at[i, 'length']\n",
    "                min_end   = cdfc.end.apply(lambda x: min(x, end))\n",
    "                max_start = cdfc.start.apply(lambda x: max(x, start))\n",
    "                max_length = cdfc.length.apply(lambda x: max(x, length))\n",
    "            #     print(i, start, end, length)\n",
    "                odf = cdfc[(min_end - max_start) > .5 * max_length]\n",
    "                if odf.shape[0] > 0:\n",
    "                    freq = odf.freq.mean()\n",
    "                    df.at[i, 'gnomad_freq'] = freq\n",
    "\n",
    "    df.to_csv('output/merged/{}.merged.inter_cohort.tsv'.format(subject), sep='\\t', index=False)"
   ]
  },
  {
   "cell_type": "markdown",
   "metadata": {},
   "source": [
    "# intra cohort frequency"
   ]
  },
  {
   "cell_type": "code",
   "execution_count": 8,
   "metadata": {},
   "outputs": [],
   "source": [
    "subject = allsamples[0]\n",
    "\n",
    "df = pd.read_csv('output/merged/{}.merged.tsv'.format(subject), sep='\\t')\n",
    "dfall = pd.DataFrame(columns = df.columns)\n",
    "\n",
    "for subject in allsamples:\n",
    "#     print(subject)\n",
    "    dfa = pd.read_csv('output/merged/{}.merged.tsv'.format(subject), sep='\\t')\n",
    "    dfa['subject'] = subject\n",
    "    dfall = dfall.append(dfa)"
   ]
  },
  {
   "cell_type": "code",
   "execution_count": 9,
   "metadata": {},
   "outputs": [],
   "source": [
    "dfall = dfall.reset_index(drop=True)\n",
    "# dfall"
   ]
  },
  {
   "cell_type": "code",
   "execution_count": 10,
   "metadata": {},
   "outputs": [],
   "source": [
    "for subject in allsamples[:]:\n",
    "\n",
    "    print(subject)\n",
    "    df = pd.read_csv('output/merged/{}.merged.genes.tsv'.format(subject), sep='\\t')\n",
    "    rdf = dfall[dfall.subject != subject]\n",
    "    rdf = rdf.sort_values(['chrom', 'start'])\n",
    "\n",
    "\n",
    "    df['intra_cohort_count'] = 0\n",
    "\n",
    "    for chrom in df.chrom.unique()[:]:\n",
    "        for svtype in ['DUP', 'DEL']:\n",
    "            dfc = df[(df.chrom == chrom) & (df.svtype == svtype)]\n",
    "            rdfc = rdf[(rdf.chrom == chrom) & (rdf.svtype == svtype)]\n",
    "\n",
    "            rstarts = rdfc.start.to_numpy()\n",
    "            rends = rdfc.end.to_numpy()\n",
    "            rlengths = rdfc.length.to_numpy()\n",
    "            \n",
    "            for i in dfc.index[:]:\n",
    "                start = dfc.at[i, 'start']\n",
    "                end = dfc.at[i, 'end']\n",
    "                length = dfc.at[i, 'length']\n",
    "                min_end    = np.minimum(rends, end)\n",
    "                max_start  = np.maximum(rstarts, start)\n",
    "                max_length = np.maximum(rlengths, length)\n",
    "                overlap = (min_end - max_start) > .5 * max_length\n",
    "                if overlap.sum() > 0:\n",
    "                    odf = rdfc[overlap]\n",
    "                    count = len(odf.subject.unique())\n",
    "                    df.at[i, 'intra_cohort_count'] = count\n",
    "\n",
    "    df['intra_cohort_freq'] = df['intra_cohort_count']/ 345.\n",
    "    df.to_csv('output/merged/{}.annotated.tsv'.format(subject), sep='\\t', index=False)"
   ]
  },
  {
   "cell_type": "markdown",
   "metadata": {},
   "source": [
    "# inheritence patterns"
   ]
  },
  {
   "cell_type": "code",
   "execution_count": 11,
   "metadata": {},
   "outputs": [],
   "source": [
    "rel = pd.read_csv('allfamilies.ped', sep='\\t')\n",
    "rel = rel.set_index('Sample_ID', drop=False)\n",
    "rel = rel[rel.Sample_ID.isin(samples)]\n",
    "# rel.head()"
   ]
  },
  {
   "cell_type": "code",
   "execution_count": 12,
   "metadata": {},
   "outputs": [],
   "source": [
    "for subject in rel.Sample_ID:\n",
    "\n",
    "\n",
    "    father = rel.at[subject, 'Father']\n",
    "    mother = rel.at[subject, 'Mother']\n",
    "    if father == '0' or mother == '0' or subject == 'SG011':\n",
    "        print(subject, '0')\n",
    "        df = pd.read_csv('output/merged/{}.annotated.tsv'.format(subject), sep='\\t')\n",
    "        df['inh_from_father'] = ''\n",
    "        df['inh_from_mother'] = ''\n",
    "        df.to_csv('output/merged/{}.annotated.tsv'.format(subject), sep='\\t', index=False)\n",
    "        continue\n",
    "#     print(subject, father, mother)\n",
    "\n",
    "    df = pd.read_csv('output/merged/{}.annotated.tsv'.format(subject), sep='\\t')\n",
    "    fdf = pd.read_csv('output/merged/{}.annotated.tsv'.format(father), sep='\\t')\n",
    "    mdf = pd.read_csv('output/merged/{}.annotated.tsv'.format(mother), sep='\\t')\n",
    "\n",
    "    df['inh_from_father'] = ''\n",
    "    df['inh_from_mother'] = ''\n",
    "\n",
    "    for chrom in df.chrom.unique()[:]:\n",
    "        for svtype in ['DUP', 'DEL']:\n",
    "            dfc = df[(df.chrom == chrom) & (df.svtype == svtype)]\n",
    "            fdfc = fdf[(fdf.chrom == chrom) & (fdf.svtype == svtype)]\n",
    "            mdfc = mdf[(mdf.chrom == chrom) & (mdf.svtype == svtype)]\n",
    "\n",
    "            for i in dfc.index[:]:\n",
    "                start = dfc.at[i, 'start']\n",
    "                end = dfc.at[i, 'end']\n",
    "                length = dfc.at[i, 'length']\n",
    "                min_end   = fdfc.end.apply(lambda x: min(x, end))\n",
    "                max_start = fdfc.start.apply(lambda x: max(x, start))\n",
    "                max_length = fdfc.length.apply(lambda x: max(x, length))\n",
    "                overlap = (min_end - max_start) > .5 * max_length\n",
    "                if overlap.sum() > 0:\n",
    "                    df.at[i, 'inh_from_father'] = 'X'\n",
    "\n",
    "                min_end   = mdfc.end.apply(lambda x: min(x, end))\n",
    "                max_start = mdfc.start.apply(lambda x: max(x, start))\n",
    "                max_length = mdfc.length.apply(lambda x: max(x, length))\n",
    "                overlap = (min_end - max_start) > .5 * max_length\n",
    "                if overlap.sum() > 0:\n",
    "                    df.at[i, 'inh_from_mother'] = 'X'\n",
    "\n",
    "    df.to_csv('output/merged/{}.annotated.tsv'.format(subject), sep='\\t', index=False)"
   ]
  },
  {
   "cell_type": "markdown",
   "metadata": {},
   "source": [
    "# combine into one file"
   ]
  },
  {
   "cell_type": "code",
   "execution_count": 13,
   "metadata": {},
   "outputs": [],
   "source": [
    "\n",
    "df = pd.read_csv('output/merged/{}.annotated.tsv'.format(subject), sep='\\t')\n",
    "dfall = pd.DataFrame(columns = df.columns)\n",
    "\n",
    "for subject in allsamples:\n",
    "#     print(subject)\n",
    "    dfa = pd.read_csv('output/merged/{}.annotated.tsv'.format(subject), sep='\\t')\n",
    "    dfa['subject'] = subject\n",
    "    dfall = dfall.append(dfa)"
   ]
  },
  {
   "cell_type": "code",
   "execution_count": 14,
   "metadata": {},
   "outputs": [],
   "source": [
    "dfall.to_csv('output/merged/allsamples.annotated.tsv', sep='\\t', index=False)"
   ]
  },
  {
   "cell_type": "markdown",
   "metadata": {},
   "source": [
    "# filter < 10 counts"
   ]
  },
  {
   "cell_type": "code",
   "execution_count": 15,
   "metadata": {},
   "outputs": [],
   "source": [
    "cnvs = pd.read_csv('output/merged/allsamples.annotated.tsv', sep='\\t')\n",
    "cnvs = cnvs[cnvs.intra_cohort_count < 10]"
   ]
  },
  {
   "cell_type": "code",
   "execution_count": 16,
   "metadata": {},
   "outputs": [],
   "source": [
    "cnvs.to_csv('output/merged/allsamples.annotated.filtered.tsv', sep='\\t', index=False)"
   ]
  },
  {
   "cell_type": "markdown",
   "metadata": {},
   "source": [
    "# annotate ensembl"
   ]
  },
  {
   "cell_type": "code",
   "execution_count": 4,
   "metadata": {},
   "outputs": [
    {
     "name": "stderr",
     "output_type": "stream",
     "text": [
      "/usr/local/lib/python3.7/dist-packages/IPython/core/interactiveshell.py:3058: DtypeWarning: Columns (5) have mixed types.Specify dtype option on import or set low_memory=False.\n",
      "  interactivity=interactivity, compiler=compiler, result=result)\n"
     ]
    }
   ],
   "source": [
    "cnvs = pd.read_csv('output/merged/rna_samples.annotated.filtered.tsv', sep='\\t')\n",
    "\n",
    "rel = pd.read_csv('../16p12.2_rnaseq_analysis/data/family_summaries.tsv', sep='\\t')\n",
    "rel = rel[rel.subject != 'SG011']\n",
    "rel = rel.set_index('subject', drop=False)\n",
    "\n",
    "keep = pd.read_csv('../16p12.2_rnaseq_analysis/outlier_expression_analysis/keep.tsv', sep='\\t')\n",
    "\n",
    "mapp = pd.read_csv('../16p12.2_rnaseq_analysis/data/gene_names_mapping_new.tsv', sep='\\t')\n",
    "mapp = mapp.set_index('ensembl')\n",
    "mapp = mapp.loc[keep.ensembl]\n",
    "mapp['chrom'] = mapp.chromosome.apply(lambda s: 'chr{}'.format(s) if s != 'MT' else 'chrM')\n",
    "mapp.start = mapp.start.astype(int)\n",
    "mapp.end = mapp.end.astype(int)\n",
    "\n",
    "mapp['ensembl'] = mapp.Name.apply(lambda s: s.split('.')[0])"
   ]
  },
  {
   "cell_type": "code",
   "execution_count": 28,
   "metadata": {},
   "outputs": [],
   "source": [
    "cnvs['ensembl'] = ''\n",
    "for i in cnvs.index[:]:\n",
    "    chrom = cnvs.at[i, 'chrom']\n",
    "    start = cnvs.at[i, 'start']\n",
    "    end = cnvs.at[i, 'end']\n",
    "\n",
    "    mappc = mapp[mapp.chrom == chrom]\n",
    "\n",
    "    min_end = mappc.end.apply(lambda x: min(x, end))\n",
    "    max_start = mappc.start.apply(lambda x: max(x, start))\n",
    "\n",
    "    overlap = (min_end - max_start) > 0\n",
    "\n",
    "    if overlap.sum() > 0:\n",
    "        mappo = mappc[overlap]  \n",
    "#         print(i, chrom, start, end, mappo.shape)\n",
    "\n",
    "        for j in mappo.index:\n",
    "            if cnvs.at[i, 'ensembl'] == '':\n",
    "                cnvs.at[i, 'ensembl'] =  mappo.at[j, 'ensembl'] \n",
    "            else:\n",
    "                cnvs.at[i, 'ensembl'] = cnvs.at[i, 'ensembl'] + ';'+ mappo.at[j, 'ensembl'] "
   ]
  },
  {
   "cell_type": "code",
   "execution_count": 32,
   "metadata": {},
   "outputs": [],
   "source": [
    "cnvs.to_csv('output/merged/rna_samples.annotated.filtered.tsv', sep='\\t', index=False)"
   ]
  },
  {
   "cell_type": "markdown",
   "metadata": {},
   "source": [
    "# group svs"
   ]
  },
  {
   "cell_type": "code",
   "execution_count": 36,
   "metadata": {},
   "outputs": [
    {
     "name": "stderr",
     "output_type": "stream",
     "text": [
      "/usr/local/lib/python3.7/dist-packages/IPython/core/interactiveshell.py:3058: DtypeWarning: Columns (5) have mixed types.Specify dtype option on import or set low_memory=False.\n",
      "  interactivity=interactivity, compiler=compiler, result=result)\n"
     ]
    }
   ],
   "source": [
    "cnvs = pd.read_csv('output/merged/rna_samples.annotated.filtered.tsv', sep='\\t')\n",
    "\n",
    "keep = pd.read_csv('../16p12.2_rnaseq_analysis/outlier_expression_analysis/keep.tsv', sep='\\t')\n",
    "\n",
    "mapp = pd.read_csv('../16p12.2_rnaseq_analysis/data/gene_names_mapping_new.tsv', sep='\\t')\n",
    "mapp = mapp.set_index('ensembl')\n",
    "mapp = mapp.loc[keep.ensembl]\n",
    "mapp['chrom'] = mapp.chromosome.apply(lambda s: 'chr{}'.format(s) if s != 'MT' else 'chrM')\n",
    "mapp.start = mapp.start.astype(int)\n",
    "mapp.end = mapp.end.astype(int)"
   ]
  },
  {
   "cell_type": "code",
   "execution_count": 38,
   "metadata": {},
   "outputs": [],
   "source": [
    "cnvs = cnvs[~(cnvs['ensembl'].isna())]"
   ]
  },
  {
   "cell_type": "code",
   "execution_count": 53,
   "metadata": {},
   "outputs": [],
   "source": [
    "by_gene = []\n",
    "\n",
    "for i, row in cnvs.iterrows():\n",
    "    if ';' not in row.ensembl:\n",
    "        by_gene.append(row.to_list())\n",
    "    else:\n",
    "        for gene in row.ensembl.split(';'):\n",
    "            to_append = row.to_list()\n",
    "            to_append[-1] = gene\n",
    "            by_gene.append(to_append)\n",
    "            \n",
    "by_gene = pd.DataFrame(by_gene, columns=cnvs.columns)\n"
   ]
  },
  {
   "cell_type": "code",
   "execution_count": 68,
   "metadata": {},
   "outputs": [],
   "source": [
    "by_gene = by_gene.set_index('ensembl', drop=False)"
   ]
  },
  {
   "cell_type": "code",
   "execution_count": 70,
   "metadata": {},
   "outputs": [],
   "source": [
    "by_gene['gene_start'] = mapp.loc[by_gene.ensembl]['start']\n",
    "by_gene['gene_end'] = mapp.loc[by_gene.ensembl]['end']\n",
    "by_gene['gene_strand'] = mapp.loc[by_gene.ensembl]['strand']"
   ]
  },
  {
   "cell_type": "code",
   "execution_count": 72,
   "metadata": {},
   "outputs": [],
   "source": [
    "def group_svs(sv_start, sv_end, gene_start, gene_end, gene_strand):\n",
    "    if sv_start < gene_start and gene_end < sv_end:\n",
    "        return 'encapsulated'\n",
    "    if gene_start < sv_start and sv_end < gene_end:\n",
    "        return 'interstitial'\n",
    "    if gene_strand == '+':\n",
    "        if sv_start < gene_start and sv_end < gene_end:\n",
    "            return '5prime'\n",
    "        if sv_start > gene_start and sv_end > gene_end:\n",
    "            return '3prime'\n",
    "    if gene_strand == '-':\n",
    "        if sv_start < gene_start and sv_end < gene_end:\n",
    "            return '3prime'\n",
    "        if sv_start > gene_start and sv_end > gene_end:\n",
    "            return '5prime'\n",
    "        \n",
    "    return 'todo'\n",
    "\n",
    "by_gene['group'] = [group_svs(s[0], s[1], s[2], s[3], s[4]) for s in zip(by_gene['start'], by_gene['end'], by_gene['gene_start'], by_gene['gene_end'], by_gene['gene_strand'])]"
   ]
  },
  {
   "cell_type": "code",
   "execution_count": 74,
   "metadata": {},
   "outputs": [],
   "source": [
    "by_gene.to_csv('output/merged/rna_samples.annotated.filtered.by_gene.tsv', sep='\\t', index=False)"
   ]
  },
  {
   "cell_type": "code",
   "execution_count": null,
   "metadata": {},
   "outputs": [],
   "source": []
  }
 ],
 "metadata": {
  "kernelspec": {
   "display_name": "Python 3",
   "language": "python",
   "name": "python3"
  },
  "language_info": {
   "codemirror_mode": {
    "name": "ipython",
    "version": 3
   },
   "file_extension": ".py",
   "mimetype": "text/x-python",
   "name": "python",
   "nbconvert_exporter": "python",
   "pygments_lexer": "ipython3",
   "version": "3.7.3"
  }
 },
 "nbformat": 4,
 "nbformat_minor": 4
}
