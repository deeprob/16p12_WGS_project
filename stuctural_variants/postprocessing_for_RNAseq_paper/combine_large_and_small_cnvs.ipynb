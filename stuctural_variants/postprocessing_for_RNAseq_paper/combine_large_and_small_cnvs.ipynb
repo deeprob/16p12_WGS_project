{
 "cells": [
  {
   "cell_type": "code",
   "execution_count": 1,
   "metadata": {},
   "outputs": [],
   "source": [
    "import pandas as pd"
   ]
  },
  {
   "cell_type": "code",
   "execution_count": 2,
   "metadata": {},
   "outputs": [],
   "source": [
    "gdf = pd.read_csv('refGene_hg19.txt', sep='\\t', header=None)\n",
    "\n",
    "gdf['chrom'] = gdf[2]\n",
    "gdf['start'] = gdf[4]\n",
    "gdf['end']   = gdf[5]\n",
    "gdf['gene']  = gdf[12]\n",
    "gdf = gdf[['chrom', 'start', 'end', 'gene']]"
   ]
  },
  {
   "cell_type": "code",
   "execution_count": 3,
   "metadata": {},
   "outputs": [],
   "source": [
    "pheno = pd.read_csv('../16p12.2_rnaseq_analysis/data/pheno_final.tsv', sep='\\t')\n",
    "\n",
    "samples = list(pheno.subject.unique())"
   ]
  },
  {
   "cell_type": "code",
   "execution_count": 4,
   "metadata": {},
   "outputs": [],
   "source": [
    "with open('survivor/all_codes.list', 'r') as f:\n",
    "    allsamples = f.readlines()\n",
    "allsamples = [s.strip() for s in allsamples]"
   ]
  },
  {
   "cell_type": "code",
   "execution_count": 5,
   "metadata": {},
   "outputs": [],
   "source": [
    "df_small = pd.read_csv('output/merged/allsamples.annotated.tsv', sep='\\t')\n",
    "df_small = df_small[df_small.intra_cohort_count < 10]\n",
    "df_small = df_small.drop(['intra_cohort_count', 'intra_cohort_freq'], axis=1)"
   ]
  },
  {
   "cell_type": "code",
   "execution_count": 6,
   "metadata": {},
   "outputs": [],
   "source": [
    "df_large = pd.read_csv('output/merged_greater_50/merged.tsv', sep='\\t')\n",
    "\n"
   ]
  },
  {
   "cell_type": "code",
   "execution_count": 7,
   "metadata": {},
   "outputs": [],
   "source": [
    "cnvs = df_small.append(df_large)\n",
    "cnvs = cnvs[cnvs.subject.isin(pheno.subject)].copy()"
   ]
  },
  {
   "cell_type": "markdown",
   "metadata": {},
   "source": [
    "# sort cnvs by gene"
   ]
  },
  {
   "cell_type": "code",
   "execution_count": 8,
   "metadata": {},
   "outputs": [],
   "source": [
    "cnvs = cnvs[~(cnvs.genes.isna())]"
   ]
  },
  {
   "cell_type": "code",
   "execution_count": 17,
   "metadata": {},
   "outputs": [],
   "source": [
    "genec = pd.DataFrame()\n",
    "genec = []\n",
    "cols = ['chrom', 'start', 'end', 'svtype', 'caller', 'num_callers', 'length', 'subject']\n",
    "\n",
    "for i, row in cnvs.iterrows():\n",
    "    genes = row['genes']\n",
    "    genes = genes.split(';')\n",
    "    \n",
    "    for gene in genes:\n",
    "        genec.append([gene] + list(row[cols]))\n"
   ]
  },
  {
   "cell_type": "code",
   "execution_count": 18,
   "metadata": {},
   "outputs": [],
   "source": [
    "genec = pd.DataFrame(genec, columns=['gene', 'chrom', 'start', 'end', 'svtype', 'caller', 'num_callers', 'length', 'subject'])"
   ]
  },
  {
   "cell_type": "code",
   "execution_count": 11,
   "metadata": {},
   "outputs": [],
   "source": [
    "genec.to_csv('output/merged/16p_all_rare_cnvs.tsv', sep='\\t', index=False)"
   ]
  },
  {
   "cell_type": "markdown",
   "metadata": {},
   "source": [
    "# mark encapsulated"
   ]
  },
  {
   "cell_type": "code",
   "execution_count": 26,
   "metadata": {},
   "outputs": [],
   "source": [
    "gdf = pd.read_csv('refGene_hg19.txt', sep='\\t', header=None)\n",
    "\n",
    "gdf['chrom'] = gdf[2]\n",
    "gdf['start'] = gdf[4]\n",
    "gdf['end']   = gdf[5]\n",
    "gdf['gene']  = gdf[12]\n",
    "gdf['strand']  = gdf[3]\n",
    "gdf = gdf[['chrom', 'start', 'end', 'gene', 'strand']]\n",
    "gdf = gdf.set_index('gene', drop=False)"
   ]
  },
  {
   "cell_type": "code",
   "execution_count": 42,
   "metadata": {},
   "outputs": [],
   "source": [
    "\n",
    "for i, row in genec.iterrows():\n",
    "    gene = row['gene']\n",
    "    start = row['start']\n",
    "    end = row['end']\n",
    "    \n",
    "    rowg = gdf.loc[gene]\n",
    "    startg = rowg['start']\n",
    "    endg = rowg['end']\n",
    "    strand = rowg['strand']\n",
    "    \n",
    "    genec.at[i, 'gene_start'] = startg\n",
    "    genec.at[i, 'gene_end'] = endg\n",
    "    genec.at[i, 'strand'] = strand\n",
    "    \n",
    "    if start < startg and endg < end:\n",
    "        genec.at[i, 'gene_covered'] = 'encapsulated'\n",
    "    if startg < start and end < endg:\n",
    "        genec.at[i, 'gene_covered'] = 'interstitial'\n",
    "    if strand == '+':\n",
    "        if start < startg and end < endg:\n",
    "            genec.at[i, 'gene_covered'] = '5prime'\n",
    "        if startg < start and endg < end:\n",
    "            genec.at[i, 'gene_covered'] = '3prime'\n",
    "    if strand == '-':\n",
    "        if startg < start and endg < end:\n",
    "            genec.at[i, 'gene_covered'] = '5prime'\n",
    "        if start < startg and end < endg:\n",
    "            genec.at[i, 'gene_covered'] = '3prime'"
   ]
  },
  {
   "cell_type": "code",
   "execution_count": 46,
   "metadata": {},
   "outputs": [],
   "source": [
    "genec.to_csv('output/merged/16p_all_rare_cnvs.tsv', sep='\\t', index=False)"
   ]
  },
  {
   "cell_type": "code",
   "execution_count": null,
   "metadata": {},
   "outputs": [],
   "source": []
  }
 ],
 "metadata": {
  "kernelspec": {
   "display_name": "Python 3",
   "language": "python",
   "name": "python3"
  },
  "language_info": {
   "codemirror_mode": {
    "name": "ipython",
    "version": 3
   },
   "file_extension": ".py",
   "mimetype": "text/x-python",
   "name": "python",
   "nbconvert_exporter": "python",
   "pygments_lexer": "ipython3",
   "version": "3.7.3"
  }
 },
 "nbformat": 4,
 "nbformat_minor": 4
}
