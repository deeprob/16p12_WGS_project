{
 "cells": [
  {
   "cell_type": "code",
   "execution_count": null,
   "metadata": {},
   "outputs": [],
   "source": [
    "import pandas as pd\n",
    "import numpy as np"
   ]
  },
  {
   "cell_type": "code",
   "execution_count": 2,
   "metadata": {},
   "outputs": [],
   "source": [
    "pheno = pd.read_csv('/data5/16p12_RNA/scripts/16p12.2_rnaseq_analysis/data/pheno_final.tsv', sep='\\t')\n",
    "\n",
    "samples = list(pheno.subject.unique())"
   ]
  },
  {
   "cell_type": "code",
   "execution_count": 3,
   "metadata": {},
   "outputs": [],
   "source": [
    "filename = '/data5/16p12_RNA/scripts/cnv_parse/output/merged/allsamples.annotated.tsv'\n",
    "\n",
    "df_small = pd.read_csv(filename, sep='\\t')\n",
    "df_small = df_small[df_small.intra_cohort_count < 10]"
   ]
  },
  {
   "cell_type": "code",
   "execution_count": 4,
   "metadata": {},
   "outputs": [],
   "source": [
    "filename = '/data5/16p12_RNA/scripts/cnv_parse/output/merged_greater_50/merged.tsv'\n",
    "\n",
    "df_large = pd.read_csv(filename, sep='\\t')\n",
    "df_large['intra_cohort_count'] = '.'\n",
    "df_large['intra_cohort_freq'] = '.'"
   ]
  },
  {
   "cell_type": "code",
   "execution_count": 5,
   "metadata": {},
   "outputs": [],
   "source": [
    "cnvs = df_small.append(df_large)\n",
    "cnvs = cnvs[cnvs.subject.isin(pheno.subject)].copy()\n",
    "\n",
    "cnvs = cnvs.drop_duplicates()\n",
    "\n",
    "cnvs = cnvs.reset_index(drop=True)\n",
    "\n"
   ]
  },
  {
   "cell_type": "code",
   "execution_count": 6,
   "metadata": {},
   "outputs": [
    {
     "name": "stderr",
     "output_type": "stream",
     "text": [
      "/usr/local/lib/python3.7/dist-packages/IPython/core/interactiveshell.py:3058: DtypeWarning: Columns (5) have mixed types.Specify dtype option on import or set low_memory=False.\n",
      "  interactivity=interactivity, compiler=compiler, result=result)\n"
     ]
    }
   ],
   "source": [
    "# annotate ensembl\n",
    "\n",
    "keep = pd.read_csv('/data5/16p12_RNA/scripts/16p12.2_rnaseq_analysis/outlier_expression_analysis/keep.tsv',\n",
    "                   sep='\\t')\n",
    "\n",
    "mapp = pd.read_csv('/data5/16p12_RNA/scripts/16p12.2_rnaseq_analysis/data/gene_names_mapping_new.tsv', sep='\\t')\n",
    "mapp = mapp.set_index('ensembl', drop=False)\n",
    "mapp = mapp.loc[keep.ensembl]\n",
    "mapp['chrom'] = mapp.chromosome.apply(lambda s: 'chr{}'.format(s) if s != 'MT' else 'chrM')\n",
    "mapp.start = mapp.start.astype(int)\n",
    "mapp.end = mapp.end.astype(int)"
   ]
  },
  {
   "cell_type": "code",
   "execution_count": 7,
   "metadata": {},
   "outputs": [],
   "source": [
    "cnvs['ensembl'] = ''\n",
    "for i in cnvs.index[:]:\n",
    "    chrom = cnvs.at[i, 'chrom']\n",
    "    start = cnvs.at[i, 'start']\n",
    "    end = cnvs.at[i, 'end']\n",
    "\n",
    "    mappc = mapp[mapp.chrom == chrom]\n",
    "\n",
    "    min_end = mappc.end.apply(lambda x: min(x, end))\n",
    "    max_start = mappc.start.apply(lambda x: max(x, start))\n",
    "\n",
    "    overlap = (min_end - max_start) > 0\n",
    "\n",
    "    if overlap.sum() > 0:\n",
    "        mappo = mappc[overlap]  \n",
    "#         print(i, chrom, start, end, mappo.shape)\n",
    "\n",
    "        for j in mappo.index:\n",
    "            if cnvs.at[i, 'ensembl'] == '':\n",
    "                cnvs.at[i, 'ensembl'] =  mappo.at[j, 'ensembl'] \n",
    "            else:\n",
    "                cnvs.at[i, 'ensembl'] = cnvs.at[i, 'ensembl'] + ';'+ mappo.at[j, 'ensembl'] "
   ]
  },
  {
   "cell_type": "code",
   "execution_count": 8,
   "metadata": {},
   "outputs": [
    {
     "data": {
      "text/plain": [
       "(926, 12)"
      ]
     },
     "execution_count": 8,
     "metadata": {},
     "output_type": "execute_result"
    }
   ],
   "source": [
    "\n",
    "\n",
    "cnvs = cnvs[cnvs.ensembl != '']\n",
    "\n",
    "cnvs.shape"
   ]
  },
  {
   "cell_type": "code",
   "execution_count": 9,
   "metadata": {},
   "outputs": [],
   "source": [
    "cnvs.to_csv('output/merged/allsamples.lcl_expressed_structural_variants.tsv', sep='\\t')"
   ]
  },
  {
   "cell_type": "code",
   "execution_count": null,
   "metadata": {},
   "outputs": [],
   "source": []
  },
  {
   "cell_type": "code",
   "execution_count": null,
   "metadata": {},
   "outputs": [],
   "source": []
  },
  {
   "cell_type": "code",
   "execution_count": null,
   "metadata": {},
   "outputs": [],
   "source": []
  }
 ],
 "metadata": {
  "kernelspec": {
   "display_name": "Python 3",
   "language": "python",
   "name": "python3"
  },
  "language_info": {
   "codemirror_mode": {
    "name": "ipython",
    "version": 3
   },
   "file_extension": ".py",
   "mimetype": "text/x-python",
   "name": "python",
   "nbconvert_exporter": "python",
   "pygments_lexer": "ipython3",
   "version": "3.7.3"
  }
 },
 "nbformat": 4,
 "nbformat_minor": 4
}
