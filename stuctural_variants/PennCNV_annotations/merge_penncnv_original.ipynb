{
 "cells": [
  {
   "cell_type": "code",
   "execution_count": 1,
   "metadata": {},
   "outputs": [],
   "source": [
    "# Combines PennCNV calls from \"PennCNV 2017 calls final\".xlsx (which were calls made from Lucilla's paper) \n",
    "# and \"PennCNV calls final\".xlsx (new samples for the WGS paper),\n",
    "\n",
    "# filters for size > 50 kbp,\n",
    "\n",
    "# and filters out poor quality samples"
   ]
  },
  {
   "cell_type": "code",
   "execution_count": 2,
   "metadata": {},
   "outputs": [],
   "source": [
    "import pandas as pd"
   ]
  },
  {
   "cell_type": "code",
   "execution_count": 3,
   "metadata": {},
   "outputs": [],
   "source": [
    "# load in PennCNV calls\n",
    "svs1 = pd.read_excel('PennCNV 2017 calls final.xlsx')\n",
    "svs2 = pd.read_excel('PennCNV calls final.xlsx')"
   ]
  },
  {
   "cell_type": "code",
   "execution_count": 4,
   "metadata": {},
   "outputs": [],
   "source": [
    "# rename columns in svs2 to match the column names in svs1\n",
    "cols = ['Chromosome', 'Start', 'End', 'PatientID', 'NumSNPs', 'Length', 'Type',\n",
    "       'StartSNP', 'EndSNP', 'Control_freq', 'Freq_label', '%CenTel', '%SD',\n",
    "       'NEJM CNV', 'Genes', 'GeneList']\n",
    "svs2.columns = cols"
   ]
  },
  {
   "cell_type": "code",
   "execution_count": 6,
   "metadata": {},
   "outputs": [
    {
     "name": "stdout",
     "output_type": "stream",
     "text": [
      "['Chromosome', 'Start', 'End', 'NumSNPs', 'Length', 'Type', 'StartSNP', 'EndSNP', 'PatientID', '%SD', '%CenTel', 'Genes', 'GeneList']\n"
     ]
    }
   ],
   "source": [
    "# keep only the columns that are in both\n",
    "cols_keep = [s for s in svs1.columns if s in svs2.columns]\n",
    "\n",
    "print(cols_keep)\n",
    "\n",
    "svs1 = svs1[cols_keep].copy()\n",
    "svs2 = svs2[cols_keep].copy()"
   ]
  },
  {
   "cell_type": "code",
   "execution_count": 7,
   "metadata": {},
   "outputs": [],
   "source": [
    "# merge the two svs\n",
    "svs = svs1.append(svs2).reset_index(drop=True)"
   ]
  },
  {
   "cell_type": "code",
   "execution_count": 8,
   "metadata": {},
   "outputs": [],
   "source": [
    "# filter for length\n",
    "svs = svs[svs.Length > 50e3].copy()"
   ]
  },
  {
   "cell_type": "code",
   "execution_count": 9,
   "metadata": {},
   "outputs": [],
   "source": [
    "# remove poor quality samples\n",
    "\n",
    "# Poor quality samples from Lucilla's paper\n",
    "poor_quality_samples = ['SG002','SG006','SG014','SG015','SG023','SG025','SG044','SG046','SG090','SG091','SG134','SG159']\n",
    "# Poor quality samples from the current batch\n",
    "poor_quality_samples = poor_quality_samples + ['SG318']\n",
    "\n",
    "svs = svs[(~svs.PatientID.isin(poor_quality_samples))].copy()"
   ]
  },
  {
   "cell_type": "code",
   "execution_count": 10,
   "metadata": {},
   "outputs": [],
   "source": [
    "# sort by chromosome and start position\n",
    "svs = svs.sort_values(['Chromosome', 'Start'])"
   ]
  },
  {
   "cell_type": "code",
   "execution_count": 11,
   "metadata": {},
   "outputs": [],
   "source": [
    "# save merged dataframe\n",
    "svs.to_csv('output/merged.PennCNV.tsv', sep='\\t', index=False)"
   ]
  },
  {
   "cell_type": "code",
   "execution_count": null,
   "metadata": {},
   "outputs": [],
   "source": []
  },
  {
   "cell_type": "code",
   "execution_count": null,
   "metadata": {},
   "outputs": [],
   "source": []
  },
  {
   "cell_type": "code",
   "execution_count": null,
   "metadata": {},
   "outputs": [],
   "source": []
  }
 ],
 "metadata": {
  "kernelspec": {
   "display_name": "Python 3",
   "language": "python",
   "name": "python3"
  },
  "language_info": {
   "codemirror_mode": {
    "name": "ipython",
    "version": 3
   },
   "file_extension": ".py",
   "mimetype": "text/x-python",
   "name": "python",
   "nbconvert_exporter": "python",
   "pygments_lexer": "ipython3",
   "version": "3.7.3"
  }
 },
 "nbformat": 4,
 "nbformat_minor": 4
}
