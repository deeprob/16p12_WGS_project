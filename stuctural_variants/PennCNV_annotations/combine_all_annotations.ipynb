{
 "cells": [
  {
   "cell_type": "code",
   "execution_count": 1,
   "metadata": {},
   "outputs": [],
   "source": [
    "import pandas as pd"
   ]
  },
  {
   "cell_type": "code",
   "execution_count": 2,
   "metadata": {},
   "outputs": [],
   "source": [
    "df = pd.read_csv('output/merged.PennCNV.tsv', sep='\\t')"
   ]
  },
  {
   "cell_type": "code",
   "execution_count": 4,
   "metadata": {},
   "outputs": [
    {
     "name": "stdout",
     "output_type": "stream",
     "text": [
      "0\n",
      "0\n",
      "0\n",
      "0\n"
     ]
    }
   ],
   "source": [
    "# append annotations\n",
    "app = pd.read_csv('output/merged.PennCNV.intracohort.tsv', sep='\\t')\n",
    "# check ids match\n",
    "print((~(app['NumSNPs'] == df['NumSNPs'])).sum())\n",
    "df['intracohort_count'] = app['intracohort_count']\n",
    "\n",
    "app = pd.read_csv('output/merged.PennCNV.gnomad_overall.tsv', sep='\\t')\n",
    "# check ids match\n",
    "print((~(app['NumSNPs'] == df['NumSNPs'])).sum())\n",
    "df['gnomad_freq_overall'] = app['gnomad_freq_overall']\n",
    "\n",
    "app = pd.read_csv('output/merged.PennCNV.gnomad_control.tsv', sep='\\t')\n",
    "# check ids match\n",
    "print((~(app['NumSNPs'] == df['NumSNPs'])).sum())\n",
    "df['gnomad_freq_control'] = app['gnomad_freq_control']\n",
    "\n",
    "app = pd.read_csv('output/merged.PennCNV.gnomad_non_neuro.tsv', sep='\\t')\n",
    "# check ids match\n",
    "print((~(app['NumSNPs'] == df['NumSNPs'])).sum())\n",
    "df['gnomad_freq_non_neuro'] = app['gnomad_freq_non_neuro']"
   ]
  },
  {
   "cell_type": "code",
   "execution_count": 5,
   "metadata": {},
   "outputs": [],
   "source": [
    "df.to_csv('output/merged_PennCNV_annotated.tsv', sep='\\t', index=False)"
   ]
  },
  {
   "cell_type": "code",
   "execution_count": null,
   "metadata": {},
   "outputs": [],
   "source": []
  }
 ],
 "metadata": {
  "kernelspec": {
   "display_name": "Python 3",
   "language": "python",
   "name": "python3"
  },
  "language_info": {
   "codemirror_mode": {
    "name": "ipython",
    "version": 3
   },
   "file_extension": ".py",
   "mimetype": "text/x-python",
   "name": "python",
   "nbconvert_exporter": "python",
   "pygments_lexer": "ipython3",
   "version": "3.7.3"
  }
 },
 "nbformat": 4,
 "nbformat_minor": 4
}
