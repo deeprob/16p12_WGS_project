{
 "cells": [
  {
   "cell_type": "code",
   "execution_count": 1,
   "metadata": {},
   "outputs": [],
   "source": [
    "import pandas as pd\n",
    "import numpy as np"
   ]
  },
  {
   "cell_type": "code",
   "execution_count": 2,
   "metadata": {},
   "outputs": [],
   "source": [
    "# load in sv2 merged table\n",
    "# should have columns ['Chromosome', 'Type', 'Start', 'End', 'Length']\n",
    "# can have more columns\n",
    "svs = pd.read_csv('output/merged.PennCNV.tsv', sep='\\t')"
   ]
  },
  {
   "cell_type": "code",
   "execution_count": 4,
   "metadata": {},
   "outputs": [
    {
     "name": "stderr",
     "output_type": "stream",
     "text": [
      "/usr/local/lib/python3.7/dist-packages/IPython/core/interactiveshell.py:3058: DtypeWarning: Columns (0,22,24,36,37,46,47,61,62,72,73,82,83,96,97,106,107,116,117,130,131,140,141,150,151,164,165,174,175,184,185,198,199,208,209,218,219,232,233) have mixed types.Specify dtype option on import or set low_memory=False.\n",
      "  interactivity=interactivity, compiler=compiler, result=result)\n"
     ]
    }
   ],
   "source": [
    "# downloaded from https://gnomad.broadinstitute.org/downloads#v2-structural-variants\n",
    "gnomad = pd.read_csv('../sv2/gnomad_v2.1_sv.controls_only.sites.bed.gz', sep='\\t')\n",
    "\n",
    "# create gnomad column for chromosome with chr\n",
    "gnomad['chrom'] = gnomad['#chrom'].apply(lambda s: 'chr{}'.format(s))\n",
    "\n",
    "# filter for only dups and dels\n",
    "gnomad = gnomad[gnomad.svtype.isin(['DEL', 'DUP'])].copy()\n",
    "\n",
    "# filter for pass only\n",
    "gnomad = gnomad[gnomad.FILTER == 'PASS'].copy()\n",
    "\n",
    "# set gnomad frequency to type float\n",
    "gnomad['AF'] = gnomad.AF.astype(float)"
   ]
  },
  {
   "cell_type": "code",
   "execution_count": 5,
   "metadata": {
    "collapsed": true,
    "jupyter": {
     "outputs_hidden": true
    }
   },
   "outputs": [
    {
     "name": "stdout",
     "output_type": "stream",
     "text": [
      "chr1\n",
      "chr10\n",
      "chr11\n",
      "chr12\n",
      "chr13\n",
      "chr14\n",
      "chr15\n",
      "chr16\n",
      "chr17\n",
      "chr18\n",
      "chr19\n",
      "chr2\n",
      "chr20\n",
      "chr21\n",
      "chr22\n",
      "chr3\n",
      "chr4\n",
      "chr5\n",
      "chr6\n",
      "chr7\n",
      "chr8\n",
      "chr9\n",
      "chrX\n"
     ]
    }
   ],
   "source": [
    "# loop over every chrom and svtype\n",
    "chromosomes = list(svs.Chromosome.unique())\n",
    "svtypes = ['dup', 'del']\n",
    "svs['gnomad_freq_overall'] = '.'\n",
    "\n",
    "for chrom in chromosomes:\n",
    "    print(chrom)\n",
    "    for svtype in svtypes:\n",
    "        # get all structural variants in chromosome and svtype\n",
    "        sub_svs = svs[(svs.Chromosome == chrom) & (svs.Type == svtype)].copy()\n",
    "        sub_gnomad = gnomad[(gnomad['chrom'] == chrom) & (gnomad.svtype == svtype.upper())].copy()\n",
    "        \n",
    "        # reset index in sub_gnomad\n",
    "        sub_gnomad = sub_gnomad.reset_index(drop=True)\n",
    "        \n",
    "        # create numpy structures for end, start, and svlength\n",
    "        # (numpy is faster than pandas)\n",
    "        chrom_ends = sub_gnomad['end'].to_numpy()\n",
    "        chrom_starts = sub_gnomad['start'].to_numpy()\n",
    "        chrom_svlengths = chrom_ends - chrom_starts\n",
    "\n",
    "        # iterate over all structural variants in cohort\n",
    "        # and compare against other structural variants gnomad\n",
    "        for i, row in sub_svs.iterrows():\n",
    "            start = row['Start']\n",
    "            end = row['End']\n",
    "            length = row['Length']\n",
    "\n",
    "            min_end   = np.minimum(chrom_ends, end)\n",
    "            max_start = np.maximum(chrom_starts, start)\n",
    "            max_length = np.maximum(chrom_svlengths, length)\n",
    "\n",
    "            overlap = (min_end - max_start) > .5 * max_length\n",
    "\n",
    "            # in some cases the structural variant overlaps with more than one gnomad SV\n",
    "            # in those cases get the sum of all SV that it overlaps with\n",
    "            allele_frequency = sub_gnomad.loc[overlap]['AF'].sum()\n",
    "            \n",
    "            # save to table\n",
    "            svs.at[i, 'gnomad_freq_control'] = allele_frequency"
   ]
  },
  {
   "cell_type": "code",
   "execution_count": 6,
   "metadata": {},
   "outputs": [],
   "source": [
    "svs.to_csv('output/merged.PennCNV.gnomad_control.tsv', sep='\\t', index=False)"
   ]
  },
  {
   "cell_type": "code",
   "execution_count": null,
   "metadata": {},
   "outputs": [],
   "source": []
  }
 ],
 "metadata": {
  "kernelspec": {
   "display_name": "Python 3",
   "language": "python",
   "name": "python3"
  },
  "language_info": {
   "codemirror_mode": {
    "name": "ipython",
    "version": 3
   },
   "file_extension": ".py",
   "mimetype": "text/x-python",
   "name": "python",
   "nbconvert_exporter": "python",
   "pygments_lexer": "ipython3",
   "version": "3.7.3"
  }
 },
 "nbformat": 4,
 "nbformat_minor": 4
}
